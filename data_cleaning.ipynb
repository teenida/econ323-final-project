{
 "cells": [
  {
   "cell_type": "markdown",
   "id": "1f6a8b3c-7f95-46f4-87e2-e721017ed6f6",
   "metadata": {},
   "source": [
    "### Data Cleaning"
   ]
  },
  {
   "cell_type": "code",
   "execution_count": null,
   "id": "2a6d9243-3d85-417d-afbc-d442e5630315",
   "metadata": {},
   "outputs": [],
   "source": [
    "# import important packages\n",
    "import pandas as pd\n",
    "import numpy as np"
   ]
  },
  {
   "cell_type": "code",
   "execution_count": null,
   "id": "5f52cc06-5086-4f3a-bd0c-e882f115eed0",
   "metadata": {},
   "outputs": [],
   "source": [
    "#Loading data\n",
    "la_crashes = pd.read_csv(\"la_car_crashes.csv\")\n",
    "#la_crashes.info()\n",
    "#la_crashes.head()"
   ]
  },
  {
   "cell_type": "code",
   "execution_count": null,
   "id": "77d8585e-12d7-4274-a827-580f8f56a231",
   "metadata": {},
   "outputs": [],
   "source": [
    "# Change date and time to datetime object\n",
    "la_crashes[\"Date Occurred\"] = pd.to_datetime(la_crashes['Date Occurred'])\n",
    "la_crashes[\"Date Reported\"] = pd.to_datetime(la_crashes[\"Date Reported\"])\n",
    "la_crashes[\"Time Occurred\"] = la_crashes['Time Occurred'].astype(str).map(lambda n: n.zfill(4))\n",
    "la_crashes[\"Time Occurred\"] = pd.to_datetime(la_crashes['Time Occurred'], format = \"%H%M\")"
   ]
  },
  {
   "cell_type": "code",
   "execution_count": null,
   "id": "1d03c0cc-b007-4b83-83be-08ce4eb49f2b",
   "metadata": {},
   "outputs": [],
   "source": [
    "#print(la_crashes[\"Date Occurred\"].max())\n",
    "#print(la_crashes[\"Date Occurred\"].min())"
   ]
  },
  {
   "cell_type": "code",
   "execution_count": null,
   "id": "dc83fefa-710d-45bc-b86c-878b827535a2",
   "metadata": {},
   "outputs": [],
   "source": [
    "#Filter out crashes that are after 1 July 2019\n",
    "la_crashes = la_crashes[(la_crashes[\"Date Occurred\"] < pd.to_datetime(\"2019-07-01\", format = \"%Y-%m-%d\"))]"
   ]
  },
  {
   "cell_type": "code",
   "execution_count": null,
   "id": "97ca4e0c-963b-4fe5-8e73-ba380ac26a85",
   "metadata": {},
   "outputs": [],
   "source": [
    "#Filter out crashes that are after 8am and before 12pm since those crashes are unlikely to be related to NBA games\n",
    "la_crashes = la_crashes[(la_crashes['Time Occurred'] <= pd.to_datetime(\"08:00\", format = \"%H:%M\")) | \n",
    "                        (la_crashes['Time Occurred'] >= pd.to_datetime(\"12:00\", format = \"%H:%M\"))]"
   ]
  },
  {
   "cell_type": "code",
   "execution_count": null,
   "id": "31e9e2a8-4bf1-4e2e-8e51-959766adf226",
   "metadata": {},
   "outputs": [],
   "source": [
    "# Find the possible game date associated with each crash\n",
    "la_crashes[\"date_associated\"] = np.where((la_crashes['Time Occurred'] <= pd.to_datetime(\"08:00\", format = \"%H:%M\")),\n",
    "                                         (la_crashes['Date Occurred']- pd.Timedelta(days=1)),\n",
    "                                         la_crashes['Date Occurred'])"
   ]
  },
  {
   "cell_type": "code",
   "execution_count": null,
   "id": "361a031c-0aa5-495a-a30d-305799f87d31",
   "metadata": {},
   "outputs": [],
   "source": [
    "#la_crashes.info()\n",
    "#la_crashes.tail()"
   ]
  },
  {
   "cell_type": "code",
   "execution_count": null,
   "id": "8f68c863-155c-4279-862a-9db2a99d89b9",
   "metadata": {},
   "outputs": [],
   "source": [
    "# Load NBA game and team data\n",
    "nba_games = pd.read_csv(\"nba_games.csv\")\n",
    "#nba_games.info()\n",
    "#nba_games.head()\n",
    "\n",
    "nba_teams = pd.read_csv(\"nba_teams.csv\")\n",
    "#nba_teams.info()"
   ]
  },
  {
   "cell_type": "code",
   "execution_count": null,
   "id": "f3ee3645-6abb-43ce-83a2-db3a4663dcaa",
   "metadata": {},
   "outputs": [],
   "source": [
    "nba_teams = nba_teams[[\"NICKNAME\", \"TEAM_ID\"]]\n",
    "nba_games = nba_games.drop([\"TEAM_ID_home\"], axis = 1)\n",
    "#Get the home team name\n",
    "nba_games = pd.merge(nba_games, nba_teams, left_on=\"HOME_TEAM_ID\", right_on=\"TEAM_ID\").rename(columns={\"NICKNAME\": \"HOME_NICKNAME\"})\n",
    "#Get the visitor team name\n",
    "nba_games = pd.merge(nba_games, nba_teams, left_on=\"VISITOR_TEAM_ID\", right_on=\"TEAM_ID\").rename(columns={\"NICKNAME\": \"VISITOR_NICKNAME\"})"
   ]
  },
  {
   "cell_type": "code",
   "execution_count": null,
   "id": "4c496317-6fbc-4f1d-9150-ac204c163a12",
   "metadata": {},
   "outputs": [],
   "source": [
    "#Convert game date to datetime object\n",
    "nba_games = nba_games[[\"GAME_DATE_EST\", \"HOME_NICKNAME\", \"VISITOR_NICKNAME\", \"HOME_TEAM_WINS\"]]\n",
    "nba_games[\"GAME_DATE_EST\"] = pd.to_datetime(nba_games[\"GAME_DATE_EST\"])"
   ]
  },
  {
   "cell_type": "code",
   "execution_count": null,
   "id": "637c4d55-93c1-4a15-af60-d0dcd185b401",
   "metadata": {},
   "outputs": [],
   "source": [
    "#print(nba_games[\"GAME_DATE_EST\"].min())\n",
    "#print(nba_games[\"GAME_DATE_EST\"].max())"
   ]
  },
  {
   "cell_type": "code",
   "execution_count": null,
   "id": "1fd85fd0-daab-414a-bacd-b962af128f61",
   "metadata": {},
   "outputs": [],
   "source": [
    "#nba_games.info()\n",
    "#nba_games.head()"
   ]
  },
  {
   "cell_type": "code",
   "execution_count": null,
   "id": "a29fc0a7-454b-4b0e-a11e-bae34d5d1ad5",
   "metadata": {},
   "outputs": [],
   "source": [
    "# find games involving Lakers or Clippers\n",
    "la_nba_games = nba_games[(nba_games[\"HOME_NICKNAME\"] == \"Lakers\") | \n",
    "                         (nba_games[\"HOME_NICKNAME\"] == \"Clippers\") | \n",
    "                         (nba_games[\"VISITOR_NICKNAME\"] == \"Clippers\") | \n",
    "                         (nba_games[\"VISITOR_NICKNAME\"] == \"Lakers\")]"
   ]
  },
  {
   "cell_type": "code",
   "execution_count": null,
   "id": "14a51e05-8075-48c7-bc28-aad0100e9753",
   "metadata": {},
   "outputs": [],
   "source": [
    "#la_nba_games.info()\n",
    "#la_nba_games.head()"
   ]
  },
  {
   "cell_type": "code",
   "execution_count": null,
   "id": "f5b044c4-89f0-47a4-a950-d13b0e26bd87",
   "metadata": {},
   "outputs": [],
   "source": [
    "# Update the date_associated var and create is_game_day var to indicate whether there is a game on that day\n",
    "la_game_days = la_nba_games[\"GAME_DATE_EST\"].tolist()\n",
    "la_crashes['is_la_game_day'] = la_crashes['date_associated'].isin(la_game_days)\n",
    "la_crashes[\"date_associated\"] = np.where((la_crashes['Time Occurred'] <= pd.to_datetime(\"08:00\", format = \"%H:%M\")) & \n",
    "                                         (la_crashes['is_la_game_day'] == False),\n",
    "                                         (la_crashes['date_associated'] + pd.Timedelta(days=1)),\n",
    "                                         la_crashes['date_associated'])\n",
    "la_crashes = la_crashes[la_crashes['date_associated'] <= nba_games[\"GAME_DATE_EST\"].max()]\n",
    "la_crashes['is_la_game_day'] = la_crashes['date_associated'].isin(la_game_days)"
   ]
  },
  {
   "cell_type": "code",
   "execution_count": null,
   "id": "5d1f9fd8-545d-4bd8-aa85-24301ecca478",
   "metadata": {},
   "outputs": [],
   "source": [
    "#la_crashes.info()\n",
    "#la_crashes.tail()"
   ]
  },
  {
   "cell_type": "code",
   "execution_count": null,
   "id": "11fe8b81-3ecc-4378-9e4b-88b174be33fa",
   "metadata": {},
   "outputs": [],
   "source": [
    "#print(la_crashes['date_associated'].min())\n",
    "#print(la_crashes['date_associated'].max())"
   ]
  },
  {
   "cell_type": "code",
   "execution_count": null,
   "id": "0b97379f-d739-4d49-90ca-d0a2cdd8300f",
   "metadata": {},
   "outputs": [],
   "source": [
    "#Get game infos\n",
    "la_crashes = pd.merge(la_crashes, la_nba_games, left_on=\"date_associated\", right_on=\"GAME_DATE_EST\", how = \"left\")\n",
    "la_crashes = la_crashes.drop([\"GAME_DATE_EST\"], axis = 1)"
   ]
  },
  {
   "cell_type": "code",
   "execution_count": null,
   "id": "afc337b6-07c6-403d-a60e-13e7b9d97d05",
   "metadata": {},
   "outputs": [],
   "source": [
    "#la_crashes.info()\n",
    "#la_crashes.head()"
   ]
  },
  {
   "cell_type": "code",
   "execution_count": null,
   "id": "dcb4324c-82d7-4c3d-94c8-97bf2539a8c9",
   "metadata": {},
   "outputs": [],
   "source": [
    "#Aggregate by date and area\n",
    "crashes_by_area = la_crashes.groupby(\n",
    "    ['date_associated', 'Area Name']\n",
    ").agg(\n",
    "    {\n",
    "        'Area ID': \"count\",\n",
    "        'is_la_game_day': 'first',\n",
    "        \"HOME_NICKNAME\": 'first',\n",
    "        \"VISITOR_NICKNAME\": \"first\",\n",
    "        \"HOME_TEAM_WINS\" : \"first\"\n",
    "    }\n",
    ").rename(columns={\"Area ID\": \"num_crashes\"}).reset_index()"
   ]
  },
  {
   "cell_type": "code",
   "execution_count": null,
   "id": "f002565e-ada7-4854-9727-fe3e245fbde9",
   "metadata": {},
   "outputs": [],
   "source": [
    "#crashes_by_area.info()\n",
    "#print(crashes_by_area[\"date_associated\"].min())\n",
    "#print(crashes_by_area[\"date_associated\"].max())"
   ]
  },
  {
   "cell_type": "code",
   "execution_count": null,
   "id": "a3464c8b-aa9a-44e2-96a4-7b470e3c6dff",
   "metadata": {},
   "outputs": [],
   "source": [
    "#crashes_by_area.head()"
   ]
  },
  {
   "cell_type": "code",
   "execution_count": null,
   "id": "fa448324-4769-4ce4-bc9c-5045d88021ca",
   "metadata": {},
   "outputs": [],
   "source": [
    "#Add year, month, day, day of week vars\n",
    "crashes_by_area['day_of_week'] = crashes_by_area.apply(lambda d: d[\"date_associated\"].weekday(), axis=1)\n",
    "crashes_by_area['month'] = crashes_by_area.apply(lambda d: d[\"date_associated\"].month, axis=1)\n",
    "crashes_by_area['year'] = crashes_by_area.apply(lambda d: d[\"date_associated\"].year, axis=1)\n",
    "crashes_by_area['day'] = crashes_by_area.apply(lambda d: d[\"date_associated\"].day, axis=1)"
   ]
  },
  {
   "cell_type": "code",
   "execution_count": null,
   "id": "22319521-db44-4eb4-8a1f-aecbd264516d",
   "metadata": {},
   "outputs": [],
   "source": [
    "#Add is_homegame var\n",
    "#crashes_by_area['is_homegame'] = (crashes_by_area['HOME_NICKNAME'] == \"Clippers\") | (crashes_by_area['HOME_NICKNAME'] == \"Lakers\")"
   ]
  },
  {
   "cell_type": "code",
   "execution_count": null,
   "id": "9a792571-0a8c-43a2-8646-16e735d8831e",
   "metadata": {},
   "outputs": [],
   "source": [
    "#Create is_holiday var to determine if a date is a holiday\n",
    "from pandas.tseries.holiday import USFederalHolidayCalendar as calendar\n",
    "\n",
    "cal = calendar()\n",
    "holidays = cal.holidays(start=crashes_by_area[\"date_associated\"].min(), end=crashes_by_area[\"date_associated\"].max())\n",
    "\n",
    "crashes_by_area['is_holiday'] = crashes_by_area[\"date_associated\"].isin(holidays)"
   ]
  },
  {
   "cell_type": "code",
   "execution_count": null,
   "id": "f46b1b85-31fa-4b43-9a14-3749eb0f3abd",
   "metadata": {},
   "outputs": [],
   "source": [
    "#crashes_by_area.info()\n",
    "#crashes_by_area.tail()"
   ]
  },
  {
   "cell_type": "code",
   "execution_count": null,
   "id": "98f0e56d-a2b5-4429-bd80-37ff757610ff",
   "metadata": {},
   "outputs": [],
   "source": [
    "# Load weather data\n",
    "weather_data = pd.read_csv(\"weather_data.csv\")\n",
    "#weather_data.info()\n",
    "#weather_data.head()"
   ]
  },
  {
   "cell_type": "code",
   "execution_count": null,
   "id": "1ebec28d-c23e-4d02-8790-187609d369a7",
   "metadata": {},
   "outputs": [],
   "source": [
    "#Drop redundant coloumns and convert date str to datetime object\n",
    "weather_data = weather_data.drop([\"year\",\"month\",\"Date\"], axis = 1)\n",
    "weather_data[\"date\"] = pd.to_datetime(weather_data[\"date\"])"
   ]
  },
  {
   "cell_type": "code",
   "execution_count": null,
   "id": "1ccd6130-49c4-42e5-b582-e55389f477df",
   "metadata": {},
   "outputs": [],
   "source": [
    "#print(weather_data[\"date\"].min())\n",
    "#print(weather_data[\"date\"].max())"
   ]
  },
  {
   "cell_type": "code",
   "execution_count": null,
   "id": "025d1435-d6bc-43f1-b5a1-bdc1a425b43b",
   "metadata": {},
   "outputs": [],
   "source": [
    "# Merge weather info with the crashes dataset\n",
    "crashes_by_area = pd.merge(crashes_by_area, weather_data, left_on=\"date_associated\", right_on=\"date\", how = \"left\").drop([\"date\"], axis = 1)"
   ]
  },
  {
   "cell_type": "code",
   "execution_count": null,
   "id": "24ead17b-83b1-4b46-ae93-8c4dd4da735b",
   "metadata": {},
   "outputs": [],
   "source": [
    "#crashes_by_area.info()\n",
    "#crashes_by_area.head()"
   ]
  },
  {
   "cell_type": "code",
   "execution_count": null,
   "id": "11f007a5-e18b-40b3-aeec-584955e0537f",
   "metadata": {},
   "outputs": [],
   "source": [
    "# Convert is_la_game_day, is_homegame, is_holiday, to dummy variables\n",
    "crashes_by_area.is_la_game_day = crashes_by_area.is_la_game_day.replace({True: 1, False: 0})\n",
    "#crashes_by_area.is_homegame = crashes_by_area.is_homegame.replace({True: 1, False: 0})\n",
    "crashes_by_area.is_holiday = crashes_by_area.is_holiday.replace({True: 1, False: 0})\n",
    "\n",
    "#crashes_by_area['is_la_game_day'] = pd.Categorical(crashes_by_area.is_la_game_day)\n",
    "#crashes_by_area['is_homegame'] = pd.Categorical(crashes_by_area.is_homegame)\n",
    "crashes_by_area['is_holiday'] = pd.Categorical(crashes_by_area.is_holiday)\n",
    "crashes_by_area['HOME_TEAM_WINS'] = pd.Categorical(crashes_by_area.HOME_TEAM_WINS)\n",
    "crashes_by_area = crashes_by_area.rename(columns = {\"Area Name\":\"area_name\"})\n",
    "crashes_by_area['area_name'] = pd.Categorical(crashes_by_area.area_name)\n",
    "crashes_by_area['day_of_week'] = pd.Categorical(crashes_by_area.day_of_week)\n",
    "crashes_by_area['month'] = pd.Categorical(crashes_by_area.month)\n",
    "crashes_by_area['year'] = pd.Categorical(crashes_by_area.year)\n",
    "crashes_by_area['day'] = pd.Categorical(crashes_by_area.day)"
   ]
  },
  {
   "cell_type": "code",
   "execution_count": null,
   "id": "1c98466b-603c-40bf-b839-82295bb0f8b9",
   "metadata": {},
   "outputs": [],
   "source": [
    "# create is_home_game_day dummy variable \n",
    "la_nba_home_games = la_nba_games[(la_nba_games[\"HOME_NICKNAME\"] == \"Lakers\") | \n",
    "                         (la_nba_games[\"HOME_NICKNAME\"] == \"Clippers\")]\n",
    "la_nba_home_game_dates = la_nba_home_games[\"GAME_DATE_EST\"].tolist()\n",
    "crashes_by_area[\"is_home_game_day\"] = crashes_by_area['date_associated'].isin(la_nba_home_game_dates)\n",
    "crashes_by_area.is_home_game_day = crashes_by_area.is_home_game_day.replace({True: 1, False: 0})\n",
    "crashes_by_area['is_home_game_day'] = pd.Categorical(crashes_by_area.is_home_game_day)\n"
   ]
  },
  {
   "cell_type": "code",
   "execution_count": null,
   "id": "3626a82c-26df-41db-a1e6-e05248aabbba",
   "metadata": {},
   "outputs": [],
   "source": [
    "#crashes_by_area.info()\n",
    "#crashes_by_area.head()"
   ]
  },
  {
   "cell_type": "code",
   "execution_count": null,
   "id": "555b074c-9546-4a1e-a111-6996de2db390",
   "metadata": {},
   "outputs": [],
   "source": [
    "#print(crashes_by_area[\"date_associated\"].min())\n",
    "#print(crashes_by_area[\"date_associated\"].max())"
   ]
  },
  {
   "cell_type": "code",
   "execution_count": null,
   "id": "ebfb1828-a77b-4da3-8c91-1ac30c17b38b",
   "metadata": {},
   "outputs": [],
   "source": [
    "#la_crashes[la_crashes[\"date_associated\"] == pd.to_datetime(\"2009-12-31\")].info()\n",
    "#la_nba_games[la_nba_games[\"GAME_DATE_EST\"] == pd.to_datetime(\"2010-01-02\", format=\"%Y-%m-%d\")].info()"
   ]
  },
  {
   "cell_type": "code",
   "execution_count": null,
   "id": "033ec432-9d09-4e22-8a2b-3699d6c35590",
   "metadata": {},
   "outputs": [],
   "source": [
    "#la_crashes.info()"
   ]
  },
  {
   "cell_type": "code",
   "execution_count": null,
   "id": "4d7d7e25-a34e-41cf-8e7f-6580e6831322",
   "metadata": {},
   "outputs": [],
   "source": [
    "#Repeat the same process for men and women\n",
    "la_crashes_female = la_crashes[la_crashes[\"Victim Sex\"] == \"F\"]\n",
    "la_crashes_male = la_crashes[la_crashes[\"Victim Sex\"] == \"M\"]"
   ]
  },
  {
   "cell_type": "code",
   "execution_count": null,
   "id": "9ff39577-b63e-4874-b033-4bef4cd3930a",
   "metadata": {},
   "outputs": [],
   "source": [
    "crashes_by_area_female = la_crashes_female.groupby(\n",
    "    ['date_associated', 'Area Name']\n",
    ").agg(\n",
    "    {\n",
    "        'Area ID': \"count\",\n",
    "        'is_la_game_day': 'first',\n",
    "        \"HOME_NICKNAME\": 'first',\n",
    "        \"VISITOR_NICKNAME\": \"first\",\n",
    "        \"HOME_TEAM_WINS\" : \"first\"\n",
    "    }\n",
    ").rename(columns={\"Area ID\": \"num_crashes\"}).reset_index()\n",
    "\n",
    "crashes_by_area_male = la_crashes_male.groupby(\n",
    "    ['date_associated', 'Area Name']\n",
    ").agg(\n",
    "    {\n",
    "        'Area ID': \"count\",\n",
    "        'is_la_game_day': 'first',\n",
    "        \"HOME_NICKNAME\": 'first',\n",
    "        \"VISITOR_NICKNAME\": \"first\",\n",
    "        \"HOME_TEAM_WINS\" : \"first\"\n",
    "    }\n",
    ").rename(columns={\"Area ID\": \"num_crashes\"}).reset_index()"
   ]
  },
  {
   "cell_type": "code",
   "execution_count": null,
   "id": "26932821-91c4-48d6-8767-1cc94075b246",
   "metadata": {},
   "outputs": [],
   "source": [
    "crashes_by_area_female['day_of_week'] = crashes_by_area_female.apply(lambda d: d[\"date_associated\"].weekday(), axis=1)\n",
    "crashes_by_area_female['month'] = crashes_by_area_female.apply(lambda d: d[\"date_associated\"].month, axis=1)\n",
    "crashes_by_area_female['year'] = crashes_by_area_female.apply(lambda d: d[\"date_associated\"].year, axis=1)\n",
    "crashes_by_area_female['day'] = crashes_by_area_female.apply(lambda d: d[\"date_associated\"].day, axis=1)\n",
    "crashes_by_area_male['day_of_week'] = crashes_by_area_male.apply(lambda d: d[\"date_associated\"].weekday(), axis=1)\n",
    "crashes_by_area_male['month'] = crashes_by_area_male.apply(lambda d: d[\"date_associated\"].month, axis=1)\n",
    "crashes_by_area_male['year'] = crashes_by_area_male.apply(lambda d: d[\"date_associated\"].year, axis=1)\n",
    "crashes_by_area_male['day'] = crashes_by_area_male.apply(lambda d: d[\"date_associated\"].day, axis=1)"
   ]
  },
  {
   "cell_type": "code",
   "execution_count": null,
   "id": "f439b110-4c5e-4a0c-bf1a-bd6e3a181e6d",
   "metadata": {},
   "outputs": [],
   "source": [
    "crashes_by_area_female['is_holiday'] = crashes_by_area_female[\"date_associated\"].isin(holidays)\n",
    "crashes_by_area_male['is_holiday'] = crashes_by_area_male[\"date_associated\"].isin(holidays)"
   ]
  },
  {
   "cell_type": "code",
   "execution_count": null,
   "id": "4714fff4-ff4b-4166-82a6-c61480e50cf7",
   "metadata": {},
   "outputs": [],
   "source": [
    "crashes_by_area_female = pd.merge(crashes_by_area_female, weather_data, left_on=\"date_associated\", right_on=\"date\", how = \"left\").drop([\"date\"], axis = 1)\n",
    "crashes_by_area_male = pd.merge(crashes_by_area_male, weather_data, left_on=\"date_associated\", right_on=\"date\", how = \"left\").drop([\"date\"], axis = 1)"
   ]
  },
  {
   "cell_type": "code",
   "execution_count": null,
   "id": "ffb6c0a5-9e8f-47d5-8739-21e24cd618e3",
   "metadata": {},
   "outputs": [],
   "source": [
    "crashes_by_area_female.is_la_game_day = crashes_by_area_female.is_la_game_day.replace({True: 1, False: 0})\n",
    "#crashes_by_area_female.is_homegame = crashes_by_area_female.is_homegame.replace({True: 1, False: 0})\n",
    "crashes_by_area_female.is_holiday = crashes_by_area_female.is_holiday.replace({True: 1, False: 0})\n",
    "crashes_by_area_male.is_la_game_day = crashes_by_area_male.is_la_game_day.replace({True: 1, False: 0})\n",
    "#crashes_by_area_male.is_homegame = crashes_by_area_male.is_homegame.replace({True: 1, False: 0})\n",
    "crashes_by_area_male.is_holiday = crashes_by_area_male.is_holiday.replace({True: 1, False: 0})"
   ]
  },
  {
   "cell_type": "code",
   "execution_count": null,
   "id": "a5fd855c-f1a7-4d80-8b5b-bf1f04b871e4",
   "metadata": {},
   "outputs": [],
   "source": [
    "#crashes_by_area['is_homegame'] = pd.Categorical(crashes_by_area.is_homegame)\n",
    "crashes_by_area_female['is_holiday'] = pd.Categorical(crashes_by_area_female.is_holiday)\n",
    "crashes_by_area_female['HOME_TEAM_WINS'] = pd.Categorical(crashes_by_area_female.HOME_TEAM_WINS)\n",
    "crashes_by_area_female = crashes_by_area_female.rename(columns = {\"Area Name\":\"area_name\"})\n",
    "crashes_by_area_female['area_name'] = pd.Categorical(crashes_by_area_female.area_name)\n",
    "crashes_by_area_female['day_of_week'] = pd.Categorical(crashes_by_area_female.day_of_week)\n",
    "crashes_by_area_female['month'] = pd.Categorical(crashes_by_area_female.month)\n",
    "crashes_by_area_female['year'] = pd.Categorical(crashes_by_area_female.year)\n",
    "crashes_by_area_female['day'] = pd.Categorical(crashes_by_area_female.day)\n",
    "#crashes_by_area['is_homegame'] = pd.Categorical(crashes_by_area.is_homegame)\n",
    "crashes_by_area_male['is_holiday'] = pd.Categorical(crashes_by_area_male.is_holiday)\n",
    "crashes_by_area_male['HOME_TEAM_WINS'] = pd.Categorical(crashes_by_area_male.HOME_TEAM_WINS)\n",
    "crashes_by_area_male = crashes_by_area_male.rename(columns = {\"Area Name\":\"area_name\"})\n",
    "crashes_by_area_male['area_name'] = pd.Categorical(crashes_by_area_male.area_name)\n",
    "crashes_by_area_male['day_of_week'] = pd.Categorical(crashes_by_area_male.day_of_week)\n",
    "crashes_by_area_male['month'] = pd.Categorical(crashes_by_area_male.month)\n",
    "crashes_by_area_male['year'] = pd.Categorical(crashes_by_area_male.year)\n",
    "crashes_by_area_male['day'] = pd.Categorical(crashes_by_area_male.day)"
   ]
  },
  {
   "cell_type": "code",
   "execution_count": null,
   "id": "92471e24-8e5d-449d-8b11-9d891541e449",
   "metadata": {},
   "outputs": [],
   "source": [
    "crashes_by_area_male[\"is_home_game_day\"] = crashes_by_area_male['date_associated'].isin(la_nba_home_game_dates)\n",
    "crashes_by_area_male.is_home_game_day = crashes_by_area_male.is_home_game_day.replace({True: 1, False: 0})\n",
    "crashes_by_area_male['is_home_game_day'] = pd.Categorical(crashes_by_area_male.is_home_game_day)\n",
    "\n",
    "crashes_by_area_female[\"is_home_game_day\"] = crashes_by_area_female['date_associated'].isin(la_nba_home_game_dates)\n",
    "crashes_by_area_female.is_home_game_day = crashes_by_area_female.is_home_game_day.replace({True: 1, False: 0})\n",
    "crashes_by_area_female['is_home_game_day'] = pd.Categorical(crashes_by_area_female.is_home_game_day)"
   ]
  }
 ],
 "metadata": {
  "kernelspec": {
   "display_name": "Python 3 (ipykernel)",
   "language": "python",
   "name": "python3"
  },
  "language_info": {
   "codemirror_mode": {
    "name": "ipython",
    "version": 3
   },
   "file_extension": ".py",
   "mimetype": "text/x-python",
   "name": "python",
   "nbconvert_exporter": "python",
   "pygments_lexer": "ipython3",
   "version": "3.10.5"
  }
 },
 "nbformat": 4,
 "nbformat_minor": 5
}
